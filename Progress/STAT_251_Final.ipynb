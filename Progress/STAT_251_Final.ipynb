{
  "nbformat": 4,
  "nbformat_minor": 0,
  "metadata": {
    "colab": {
      "name": "Part 2.ipynb",
      "provenance": [],
      "collapsed_sections": []
    },
    "kernelspec": {
      "name": "python3",
      "display_name": "Python 3"
    }
  },
  "cells": [
    {
      "cell_type": "code",
      "metadata": {
        "id": "k2SPn5P7vqeP",
        "colab_type": "code",
        "colab": {}
      },
      "source": [
        "import numpy as np\n",
        "from scipy.integrate import odeint\n",
        "import matplotlib.pyplot as plt"
      ],
      "execution_count": 0,
      "outputs": []
    },
    {
      "cell_type": "code",
      "metadata": {
        "id": "iyqaFl4EnhrU",
        "colab_type": "code",
        "colab": {}
      },
      "source": [
        "def sir_ode(state, time, beta, gamma):\n",
        "    '''\n",
        "    WE'RE NOT USING THIS ANYMORE. THIS CODE WAS USED PREVIOUSLY FOR THE ODEINT SOLVER. WE HAVE REPLACED IT WITH FORWARD EULER METHOD\n",
        "    Listing the ODE's we're working with\n",
        "\n",
        "    state: tuple of (susceptibles, infectious, recovered)\n",
        "    time: np array of time\n",
        "    beta: rate of infection\n",
        "    gamma: rate of recovery\n",
        "\n",
        "    Return: tuple of (dSdt, dIdt, dRdt)\n",
        "    #### assign sprop, Iprop, beta_less_const #####\n",
        "    '''\n",
        "\n",
        "    # unpack state variables\n",
        "    S, I, R = state\n",
        "\n",
        "    N = S + I + R\n",
        "\n",
        "    # dividing S into Sq and Snq\n",
        "    ## S = Sq + Snq\n",
        "    Sq, Snq = divvy_pop(S, 0.5)\n",
        "\n",
        "    # dividing I into Iq and Inq\n",
        "    ## I = Iq + Inq\n",
        "    Iq, Inq = divvy_pop(I, 0.5)\n",
        "\n",
        "    # simulate beta_less \n",
        "    beta_less = beta * 0.5\n",
        "\n",
        "    # calculate rates for output\n",
        "    #dSdt = -beta * S * I / N\n",
        "    dSdt = -(beta_less*Sq*Iq + beta*Sq*Inq + beta_less*Snq*Iq + beta*Snq*Inq)/N\n",
        "    #dIdt = beta * S * I / N - gamma * I \n",
        "    dIdt = (beta_less*Sq*Iq + beta*Sq*Inq + beta_less*Snq*Iq + beta*Snq*Inq)/N - gamma*I\n",
        "    dRdt = gamma * I\n",
        "\n",
        "    return dSdt, dIdt, dRdt\n"
      ],
      "execution_count": 0,
      "outputs": []
    },
    {
      "cell_type": "code",
      "metadata": {
        "id": "FfaQFSUCtD9C",
        "colab_type": "code",
        "colab": {}
      },
      "source": [
        "def divvy_pop(population, prop):\n",
        "    '''\n",
        "    Divide susceptible population into quarantine and non-quarantine\n",
        "    \n",
        "    Inputs:\n",
        "    population: int\n",
        "    prop: proportion of people who quarantine themselves\n",
        "\n",
        "    Return: tuple (quarantined, non-quarantined)\n",
        "    '''\n",
        "\n",
        "    quarantined = population * prop\n",
        "    non_quarantined = population - quarantined\n",
        "\n",
        "    return quarantined, non_quarantined\n"
      ],
      "execution_count": 0,
      "outputs": []
    },
    {
      "cell_type": "code",
      "metadata": {
        "id": "SVOlnEJIviKE",
        "colab_type": "code",
        "colab": {}
      },
      "source": [
        "def visualize_model(init_states, Tmax, beta, gamma):\n",
        "    '''\n",
        "    Visualize the change in total of susceptibles, infectious, recovered population. \n",
        "    A maximum of infectious population will also be identified and returned. \n",
        "\n",
        "    init_states: tuple of initial (S, I, R)\n",
        "    Tmax: the duration of the epidemic\n",
        "    beta: normal rate of transmission\n",
        "    gamma: rate of recovery\n",
        "    '''\n",
        "    # Generate variables:\n",
        "    ## unpack state variables\n",
        "    S_init, I_init, R_init = init_states \n",
        "    N = S_init + I_init + R_init\n",
        "\n",
        "    ## simulate beta_less \n",
        "    beta_less = beta * 0.5\n",
        "\n",
        "    # Set up the time array\n",
        "    dt = 1    # day\n",
        "    #Niter = int(Tmax/dt) #determine the number of iterations\n",
        "    time = range(0,Tmax + 1,dt) # preallocate the time array\n",
        "\n",
        "    # Set up S, I, R arrays\n",
        "    S = [0] * (Tmax + 1)    # preallocate the solution array\n",
        "    I = [0] * (Tmax + 1)\n",
        "    R = [0] * (Tmax + 1)\n",
        "\n",
        "    # Solve each ODE using Forward Euler\n",
        "    for i in range(Tmax):\n",
        "      S[0] = S_init\n",
        "      I[0] = I_init\n",
        "      R[0] = R_init\n",
        "\n",
        "      ## dividing S and I into quarantined and non-quarantined:\n",
        "      Sq, Snq = divvy_pop(S[i], 0.5)\n",
        "      Iq, Inq = divvy_pop(I[i], 0.5)\n",
        "\n",
        "      dSdt = -(beta_less*Sq*Iq + beta*Sq*Inq + beta_less*Snq*Iq + beta*Snq*Inq)/N\n",
        "      S[i+1] = S[i] + dt*dSdt\n",
        "\n",
        "      dIdt = (beta_less*Sq*Iq + beta*Sq*Inq + beta_less*Snq*Iq + beta*Snq*Inq)/N - gamma*I[i]\n",
        "      I[i+1] = I[i] + dt*dIdt\n",
        "\n",
        "      dRdt = gamma * I[i]\n",
        "      R[i+1] = R[i] + dt*dRdt\n",
        "\n",
        "    plt.plot(time, S, 'g', label=\"S(t)\")\n",
        "    plt.plot(time, I, 'r', label=\"I(t)\")\n",
        "    plt.plot(time, R, 'b', label=\"R(t)\")\n",
        "\n",
        "    plt.xlabel(\"Time\")\n",
        "    plt.ylabel(\"Population\")\n",
        "    plt.legend()\n",
        "    plt.show()\n",
        "\n",
        "    print('Maximum infected = ' + str(max(I)))"
      ],
      "execution_count": 0,
      "outputs": []
    },
    {
      "cell_type": "code",
      "metadata": {
        "id": "8rBUcuv7yNrd",
        "colab_type": "code",
        "outputId": "65c4d49a-0287-4838-d63f-0efc928c399b",
        "colab": {
          "base_uri": "https://localhost:8080/",
          "height": 307
        }
      },
      "source": [
        "# NYC\n",
        "\n",
        "init = (8399000, 1033, 0)\n",
        "\n",
        "# beta has normal distribution\n",
        "# use np.random.normal()\n",
        "beta = 3/14\n",
        "sd_b = 0.03\n",
        "\n",
        "# gamma has normal distribution\n",
        "gamma = 1/14\n",
        "\n",
        "visualize_model(init, 300, beta, gamma)"
      ],
      "execution_count": 0,
      "outputs": [
        {
          "output_type": "display_data",
          "data": {
            "image/png": "[encoded data removed]",
            "text/plain": [
              "<Figure size 432x288 with 1 Axes>"
            ]
          },
          "metadata": {
            "tags": [],
            "needs_background": "light"
          }
        },
        {
          "output_type": "stream",
          "text": [
            "Maximum infected = 1672883.3973987\n"
          ],
          "name": "stdout"
        }
      ]
    }
  ]
}
