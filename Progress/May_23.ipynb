{
  "nbformat": 4,
  "nbformat_minor": 0,
  "metadata": {
    "colab": {
      "name": "STAT 251 Final.ipynb",
      "provenance": [],
      "collapsed_sections": []
    },
    "kernelspec": {
      "name": "python3",
      "display_name": "Python 3"
    }
  },
  "cells": [
    {
      "cell_type": "code",
      "metadata": {
        "id": "k2SPn5P7vqeP",
        "colab_type": "code",
        "colab": {}
      },
      "source": [
        "import numpy as np\n",
        "from scipy.integrate import odeint\n",
        "import matplotlib.pyplot as plt"
      ],
      "execution_count": 0,
      "outputs": []
    },
    {
      "cell_type": "code",
      "metadata": {
        "id": "iyqaFl4EnhrU",
        "colab_type": "code",
        "colab": {}
      },
      "source": [
        "def sir_ode(state, time, beta, gamma):\n",
        "    '''\n",
        "    Listing the ODE's we're working with\n",
        "\n",
        "    state: tuple of (susceptibles, infectious, recovered)\n",
        "    time: np array of time\n",
        "    beta: rate of infection\n",
        "    gamma: rate of recovery\n",
        "\n",
        "    Return: tuple of (dSdt, dIdt, dRdt)\n",
        "    #### assign sprop, Iprop, beta_less_const #####\n",
        "    '''\n",
        "\n",
        "    # unpack state variables\n",
        "    S, I, R = state\n",
        "\n",
        "    N = S + I + R\n",
        "\n",
        "    # dividing S into Sq and Snq\n",
        "    ## S = Sq + Snq\n",
        "    Sq, Snq = divvy_pop(S, 0.5)\n",
        "\n",
        "    # dividing I into Iq and Inq\n",
        "    ## I = Iq + Inq\n",
        "    Iq, Inq = divvy_pop(I, 0.5)\n",
        "\n",
        "    # simulate beta_less \n",
        "    beta_less = beta * 0.5\n",
        "\n",
        "    # calculate rates for output\n",
        "    #dSdt = -beta * S * I / N\n",
        "    dSdt = -(beta_less*Sq*Iq + beta*Sq*Inq + beta_less*Snq*Iq + beta*Snq*Inq)/N\n",
        "    #dIdt = beta * S * I / N - gamma * I \n",
        "    dIdt = (beta_less*Sq*Iq + beta*Sq*Inq + beta_less*Snq*Iq + beta*Snq*Inq)/N - gamma*I\n",
        "    dRdt = gamma * I\n",
        "\n",
        "    return dSdt, dIdt, dRdt\n"
      ],
      "execution_count": 0,
      "outputs": []
    },
    {
      "cell_type": "code",
      "metadata": {
        "id": "FfaQFSUCtD9C",
        "colab_type": "code",
        "colab": {}
      },
      "source": [
        "def divvy_pop(population, prop):\n",
        "    '''\n",
        "    Divide susceptible population into quarantine and non-quarantine\n",
        "    \n",
        "    Inputs:\n",
        "    population: int\n",
        "    prop: proportion of people who quarantine themselves\n",
        "\n",
        "    Return: tuple (quarantined, non-quarantined)\n",
        "    '''\n",
        "\n",
        "    quarantined = population * prop\n",
        "    non_quarantined = population - quarantined\n",
        "\n",
        "    return quarantined, non_quarantined\n"
      ],
      "execution_count": 0,
      "outputs": []
    },
    {
      "cell_type": "code",
      "metadata": {
        "id": "SVOlnEJIviKE",
        "colab_type": "code",
        "colab": {}
      },
      "source": [
        "def visualize_model(init_states, Tmax, beta, gamma):\n",
        "    '''\n",
        "    Visualize the change in total of susceptibles, infectious, recovered population. \n",
        "    A maximum of infectious population will also be identified and returned. \n",
        "\n",
        "    init_states: tuple of initial (S, I, R)\n",
        "    Tmax: the duration of the epidemic\n",
        "    beta: normal rate of transmission\n",
        "    gamma: rate of recovery\n",
        "    '''\n",
        "  \n",
        "    time = np.linspace(0, Tmax, 5*Tmax)\n",
        "\n",
        "    out = odeint(sir_ode, init_states, time, args=(beta,gamma,))\n",
        "    S, I, R = out.T\n",
        "\n",
        "    plt.plot(time, S, 'g', label=\"S(t)\")\n",
        "    plt.plot(time, I, 'r', label=\"I(t)\")\n",
        "    plt.plot(time, R, 'b', label=\"R(t)\")\n",
        "\n",
        "    plt.xlabel(\"Time\")\n",
        "    plt.ylabel(\"Population\")\n",
        "    plt.legend()\n",
        "    plt.show()\n",
        "\n",
        "    print('Maximum infected = ' + str(max(I)))"
      ],
      "execution_count": 0,
      "outputs": []
    },
    {
      "cell_type": "code",
      "metadata": {
        "id": "8rBUcuv7yNrd",
        "colab_type": "code",
        "outputId": "b0a36686-f2c0-4e51-fc94-d0d7b83c886e",
        "colab": {
          "base_uri": "https://localhost:8080/",
          "height": 307
        }
      },
      "source": [
        "init = (8399000, 1033, 0)\n",
        "\n",
        "# beta has normal distribution\n",
        "# use np.random.normal()\n",
        "beta = 3/14\n",
        "sd_b = 0.03\n",
        "\n",
        "# gamma has _ distribution\n",
        "gamma = 1/14\n",
        "\n",
        "visualize_model(init, 300, beta, gamma)"
      ],
      "execution_count": 85,
      "outputs": [
        {
          "output_type": "display_data",
          "data": {
            "image/png": "[encoded data removed]",
            "text/plain": [
              "<Figure size 432x288 with 1 Axes>"
            ]
          },
          "metadata": {
            "tags": [],
            "needs_background": "light"
          }
        },
        {
          "output_type": "stream",
          "text": [
            "Maximum infected = 1639654.3312721488\n"
          ],
          "name": "stdout"
        }
      ]
    },
    {
      "cell_type": "code",
      "metadata": {
        "id": "zuPCcIBfyfdM",
        "colab_type": "code",
        "colab": {}
      },
      "source": [
        ""
      ],
      "execution_count": 0,
      "outputs": []
    }
  ]
}